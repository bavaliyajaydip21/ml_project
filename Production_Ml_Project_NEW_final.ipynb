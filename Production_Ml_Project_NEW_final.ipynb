{
  "cells": [
    {
      "cell_type": "code",
      "execution_count": null,
      "metadata": {
        "colab": {
          "base_uri": "https://localhost:8080/"
        },
        "id": "zXkWxA2sIXnn",
        "outputId": "47d40fba-7df2-4dc1-b545-403c47e0593c"
      },
      "outputs": [
        {
          "name": "stdout",
          "output_type": "stream",
          "text": [
            "Drive already mounted at /content/drive; to attempt to forcibly remount, call drive.mount(\"/content/drive\", force_remount=True).\n"
          ]
        }
      ],
      "source": [
        "# Connect To The Drive\n",
        "# from google.colab import drive\n",
        "# drive.mount('/content/drive')"
      ]
    },
    {
      "cell_type": "code",
      "execution_count": null,
      "metadata": {
        "colab": {
          "base_uri": "https://localhost:8080/"
        },
        "id": "gjpcQ2dXM7u0",
        "outputId": "a636dcc1-9c44-41d4-8deb-bfb006b8e640"
      },
      "outputs": [
        {
          "name": "stdout",
          "output_type": "stream",
          "text": [
            "Looking in indexes: https://pypi.org/simple, https://us-python.pkg.dev/colab-wheels/public/simple/\n",
            "Requirement already satisfied: flask-ngrok in /usr/local/lib/python3.9/dist-packages (0.0.25)\n",
            "Requirement already satisfied: Flask>=0.8 in /usr/local/lib/python3.9/dist-packages (from flask-ngrok) (2.2.3)\n",
            "Requirement already satisfied: requests in /usr/local/lib/python3.9/dist-packages (from flask-ngrok) (2.27.1)\n",
            "Requirement already satisfied: itsdangerous>=2.0 in /usr/local/lib/python3.9/dist-packages (from Flask>=0.8->flask-ngrok) (2.1.2)\n",
            "Requirement already satisfied: importlib-metadata>=3.6.0 in /usr/local/lib/python3.9/dist-packages (from Flask>=0.8->flask-ngrok) (6.1.0)\n",
            "Requirement already satisfied: Jinja2>=3.0 in /usr/local/lib/python3.9/dist-packages (from Flask>=0.8->flask-ngrok) (3.1.2)\n",
            "Requirement already satisfied: Werkzeug>=2.2.2 in /usr/local/lib/python3.9/dist-packages (from Flask>=0.8->flask-ngrok) (2.2.3)\n",
            "Requirement already satisfied: click>=8.0 in /usr/local/lib/python3.9/dist-packages (from Flask>=0.8->flask-ngrok) (8.1.3)\n",
            "Requirement already satisfied: idna<4,>=2.5 in /usr/local/lib/python3.9/dist-packages (from requests->flask-ngrok) (3.4)\n",
            "Requirement already satisfied: urllib3<1.27,>=1.21.1 in /usr/local/lib/python3.9/dist-packages (from requests->flask-ngrok) (1.26.15)\n",
            "Requirement already satisfied: certifi>=2017.4.17 in /usr/local/lib/python3.9/dist-packages (from requests->flask-ngrok) (2022.12.7)\n",
            "Requirement already satisfied: charset-normalizer~=2.0.0 in /usr/local/lib/python3.9/dist-packages (from requests->flask-ngrok) (2.0.12)\n",
            "Requirement already satisfied: zipp>=0.5 in /usr/local/lib/python3.9/dist-packages (from importlib-metadata>=3.6.0->Flask>=0.8->flask-ngrok) (3.15.0)\n",
            "Requirement already satisfied: MarkupSafe>=2.0 in /usr/local/lib/python3.9/dist-packages (from Jinja2>=3.0->Flask>=0.8->flask-ngrok) (2.1.2)\n"
          ]
        }
      ],
      "source": [
        "!pip install Flask\n",
        "# -ngrok"
      ]
    },
    {
      "cell_type": "code",
      "execution_count": null,
      "metadata": {
        "id": "6zzpgr1kJBl4"
      },
      "outputs": [],
      "source": [
        "from flask import Flask, render_template,request,redirect,url_for\n",
        "# from flask_ngrok import run_with_ngrok\n",
        "from joblib import load\n",
        "import pandas as pd"
      ]
    },
    {
      "cell_type": "code",
      "execution_count": null,
      "metadata": {
        "colab": {
          "base_uri": "https://localhost:8080/"
        },
        "id": "JLJPFi5tJCtw",
        "outputId": "6068752f-a547-49a8-b1b0-a06e85a992c8"
      },
      "outputs": [
        {
          "name": "stdout",
          "output_type": "stream",
          "text": [
            "--2023-04-10 09:50:16--  https://bin.equinox.io/c/4VmDzA7iaHb/ngrok-stable-linux-amd64.zip\n",
            "Resolving bin.equinox.io (bin.equinox.io)... 52.202.168.65, 54.237.133.81, 54.161.241.46, ...\n",
            "Connecting to bin.equinox.io (bin.equinox.io)|52.202.168.65|:443... connected.\n",
            "HTTP request sent, awaiting response... 200 OK\n",
            "Length: 13921656 (13M) [application/octet-stream]\n",
            "Saving to: ‘ngrok-stable-linux-amd64.zip.7’\n",
            "\n",
            "ngrok-stable-linux- 100%[===================>]  13.28M  53.3MB/s    in 0.2s    \n",
            "\n",
            "2023-04-10 09:50:16 (53.3 MB/s) - ‘ngrok-stable-linux-amd64.zip.7’ saved [13921656/13921656]\n",
            "\n",
            "Archive:  ngrok-stable-linux-amd64.zip\n",
            "replace ngrok? [y]es, [n]o, [A]ll, [N]one, [r]ename: y\n",
            "  inflating: ngrok                   \n",
            "Authtoken saved to configuration file: /root/.ngrok2/ngrok.yml\n"
          ]
        }
      ],
      "source": [
        "# ! wget https://bin.equinox.io/c/4VmDzA7iaHb/ngrok-stable-linux-amd64.zip\n",
        "# ! unzip ngrok-stable-linux-amd64.zip\n",
        "# ! ./ngrok authtoken 2OEHAZMdNQowVLnrdRaMQmsS5TM_4PiMND2wprYZ4nzb2Ks54 "
      ]
    },
    {
      "cell_type": "code",
      "execution_count": null,
      "metadata": {
        "id": "RjQrQvTuJHGH"
      },
      "outputs": [],
      "source": [
        "# /content/drive/MyDrive/\n",
        "app = Flask(__name__,template_folder=\"Project_ML\")"
      ]
    },
    {
      "cell_type": "code",
      "execution_count": null,
      "metadata": {
        "id": "Hvedqi9hNSpZ"
      },
      "outputs": [],
      "source": [
        "# run_with_ngrok(app)"
      ]
    },
    {
      "cell_type": "code",
      "execution_count": null,
      "metadata": {
        "id": "z8OLNEOlJzMq"
      },
      "outputs": [],
      "source": [
        "@app.route(\"/\")\n",
        "def index():\n",
        "    return render_template(\"model.html\") \n",
        "\n",
        "@app.route(\"/model\",methods=['GET', 'POST'])\n",
        "def model_page():\n",
        "\n",
        "\n",
        "  output_text = 'Initial'\n",
        "\n",
        "  if request.method == 'POST':\n",
        "      gender = request.form.get('gender')\n",
        "      SeniorCitizen = request.form.get('SeniorCitizen')\n",
        "      Partner = request.form.get('Partner')\n",
        "      Dependents  = request.form.get('Dependents')\n",
        "      PhoneService = request.form.get('PhoneService')\n",
        "      MultipleLines = request.form.get('MultipleLines')\n",
        "      InternetService = request.form.get('InternetService')\n",
        "      OnlineSecurity = request.form.get('OnlineSecurity')\n",
        "      OnlineBackup = request.form.get('OnlineBackup')\n",
        "      DeviceProtection = request.form.get('DeviceProtection')\n",
        "      TechSupport = request.form.get('TechSupport')\n",
        "      StreamingTV = request.form.get('StreamingTV')\n",
        "      StreamingMovies = request.form.get('StreamingMovies')\n",
        "      Contract = request.form.get('Contract')\n",
        "      PaperlessBilling = request.form.get('PaperlessBilling')\n",
        "      PaymentMethod = request.form.get('PaymentMethod')\n",
        "      MonthlyCharges = request.form.get('MonthlyCharges')\n",
        "      TotalCharges = request.form.get('TotalCharges')\n",
        "      tenure_group = request.form.get('tenure_group')\n",
        "\n",
        "      df = pd.DataFrame({\n",
        "          'gender':[gender],\n",
        "          'SeniorCitizen':[SeniorCitizen],\n",
        "          'Partner':[Partner],\n",
        "          'Dependents':[Dependents],\n",
        "          'PhoneService':[PhoneService],\n",
        "          'MultipleLines':[MultipleLines],\n",
        "          'InternetService':[InternetService],\n",
        "          'OnlineSecurity':[OnlineSecurity],\n",
        "          'OnlineBackup':[OnlineBackup],\n",
        "          'DeviceProtection':[DeviceProtection],\n",
        "          'TechSupport':[TechSupport],\n",
        "          'StreamingTV':[StreamingTV],\n",
        "          'StreamingMovies':[StreamingMovies],\n",
        "          'Contract':[Contract],\n",
        "          'PaperlessBilling':[PaperlessBilling],\n",
        "          'PaymentMethod':[PaymentMethod],\n",
        "          'MonthlyCharges':[MonthlyCharges],\n",
        "          'TotalCharges':[TotalCharges],\n",
        "          'tenure_group':[tenure_group]\n",
        "      })\n",
        "\n",
        "\n",
        "      randomForestClassifier = load('Project_ML/random_forest.joblib')\n",
        "      y_pred = randomForestClassifier.predict(df)\n",
        "\n",
        "      if y_pred == 0.0:\n",
        "          pred = \" User Will Not Churn \"\n",
        "      else:\n",
        "          pred = \" User Will Churn \"\n",
        "\n",
        "      return render_template('output.html', output_text = pred)\n",
        "\n"
      ]
    },
    {
      "cell_type": "code",
      "execution_count": null,
      "metadata": {
        "colab": {
          "background_save": true,
          "base_uri": "https://localhost:8080/"
        },
        "id": "AZEpKnN5KMRz",
        "outputId": "581d7833-5293-4134-8144-2870ada90476"
      },
      "outputs": [
        {
          "name": "stdout",
          "output_type": "stream",
          "text": [
            " * Serving Flask app '__main__'\n",
            " * Debug mode: off\n"
          ]
        },
        {
          "name": "stderr",
          "output_type": "stream",
          "text": [
            "INFO:werkzeug:\u001b[31m\u001b[1mWARNING: This is a development server. Do not use it in a production deployment. Use a production WSGI server instead.\u001b[0m\n",
            " * Running on http://127.0.0.1:5000\n",
            "INFO:werkzeug:\u001b[33mPress CTRL+C to quit\u001b[0m\n"
          ]
        },
        {
          "name": "stdout",
          "output_type": "stream",
          "text": [
            " * Running on http://9825-35-237-160-91.ngrok-free.app\n",
            " * Traffic stats available on http://127.0.0.1:4040\n"
          ]
        },
        {
          "name": "stderr",
          "output_type": "stream",
          "text": [
            "INFO:werkzeug:127.0.0.1 - - [10/Apr/2023 09:50:33] \"GET / HTTP/1.1\" 200 -\n",
            "INFO:werkzeug:127.0.0.1 - - [10/Apr/2023 09:50:33] \"\u001b[33mGET /favicon.ico HTTP/1.1\u001b[0m\" 404 -\n",
            "INFO:werkzeug:127.0.0.1 - - [10/Apr/2023 09:50:41] \"POST /model HTTP/1.1\" 200 -\n"
          ]
        }
      ],
      "source": [
        "app.run()"
      ]
    }
  ],
  "metadata": {
    "colab": {
      "provenance": []
    },
    "kernelspec": {
      "display_name": "Python 3",
      "name": "python3"
    },
    "language_info": {
      "name": "python"
    }
  },
  "nbformat": 4,
  "nbformat_minor": 0
}